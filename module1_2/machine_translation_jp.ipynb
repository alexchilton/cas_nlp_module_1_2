{
 "cells": [
  {
   "cell_type": "markdown",
   "id": "1fcd59bb",
   "metadata": {},
   "source": [
    "<h1 align=\"center\"><strong>Machine translation</strong></h1>\n",
    "\n",
    "Machine translation (MT) is the study of how to use computers to translate from one language into another. In terms of methodologies MT mainly falls in two categories: rule-based methods and corpus-based-methods.  \n",
    "\n",
    "In this short notebook a dataset containing japanese and english text will be loaded and prepared for a machine translation task.  \n",
    "The preparation will limit itself to the extraction of the sentence pair and the splitting into train and test set. "
   ]
  },
  {
   "cell_type": "markdown",
   "id": "de185526",
   "metadata": {},
   "source": [
    "# Import "
   ]
  },
  {
   "cell_type": "code",
   "execution_count": 1,
   "id": "e8a6c482",
   "metadata": {},
   "outputs": [
    {
     "name": "stderr",
     "output_type": "stream",
     "text": [
      "c:\\Users\\laran\\Home\\Documents\\code\\venv\\NLPvenv\\Lib\\site-packages\\tqdm\\auto.py:21: TqdmWarning: IProgress not found. Please update jupyter and ipywidgets. See https://ipywidgets.readthedocs.io/en/stable/user_install.html\n",
      "  from .autonotebook import tqdm as notebook_tqdm\n"
     ]
    }
   ],
   "source": [
    "import kagglehub\n",
    "from pathlib import Path\n",
    "import pandas as pd\n",
    "import xml.etree.ElementTree as ET\n",
    "from pprint import pprint\n",
    "from collections import Counter\n",
    "from sklearn.model_selection import train_test_split \n",
    "import tqdm as notebook_tqdm\n",
    "import matplotlib.pyplot as plt\n",
    "\n",
    "import utils\n",
    "\n",
    "import logging\n",
    "logging.getLogger(\"transformers.modeling_utils\").setLevel(logging.ERROR)\n"
   ]
  },
  {
   "cell_type": "markdown",
   "id": "021eda5b",
   "metadata": {},
   "source": [
    "# Data"
   ]
  },
  {
   "cell_type": "code",
   "execution_count": 2,
   "id": "788c26dc",
   "metadata": {},
   "outputs": [
    {
     "name": "stdout",
     "output_type": "stream",
     "text": [
      "C:\\Users\\laran\\.cache\\kagglehub\\datasets\\team-ai\\japaneseenglish-bilingual-corpus\\versions\\3\n"
     ]
    }
   ],
   "source": [
    "# Download latest version\n",
    "root=Path(kagglehub.dataset_download(\"team-ai/japaneseenglish-bilingual-corpus\"))\n",
    "print(root)\n"
   ]
  },
  {
   "cell_type": "code",
   "execution_count": 3,
   "id": "483c0b22",
   "metadata": {},
   "outputs": [
    {
     "name": "stdout",
     "output_type": "stream",
     "text": [
      "[WindowsPath('C:/Users/laran/.cache/kagglehub/datasets/team-ai/japaneseenglish-bilingual-corpus/versions/3/BDS00389.xml'),\n",
      " WindowsPath('C:/Users/laran/.cache/kagglehub/datasets/team-ai/japaneseenglish-bilingual-corpus/versions/3/fonts-japanese-gothic.ttf'),\n",
      " WindowsPath('C:/Users/laran/.cache/kagglehub/datasets/team-ai/japaneseenglish-bilingual-corpus/versions/3/kyoto_lexicon.csv'),\n",
      " WindowsPath('C:/Users/laran/.cache/kagglehub/datasets/team-ai/japaneseenglish-bilingual-corpus/versions/3/readme.pdf'),\n",
      " WindowsPath('C:/Users/laran/.cache/kagglehub/datasets/team-ai/japaneseenglish-bilingual-corpus/versions/3/wiki_corpus_2.01/BDS/BDS00001.xml'),\n",
      " WindowsPath('C:/Users/laran/.cache/kagglehub/datasets/team-ai/japaneseenglish-bilingual-corpus/versions/3/wiki_corpus_2.01/BDS/BDS00002.xml'),\n",
      " WindowsPath('C:/Users/laran/.cache/kagglehub/datasets/team-ai/japaneseenglish-bilingual-corpus/versions/3/wiki_corpus_2.01/BDS/BDS00003.xml'),\n",
      " WindowsPath('C:/Users/laran/.cache/kagglehub/datasets/team-ai/japaneseenglish-bilingual-corpus/versions/3/wiki_corpus_2.01/BDS/BDS00004.xml'),\n",
      " WindowsPath('C:/Users/laran/.cache/kagglehub/datasets/team-ai/japaneseenglish-bilingual-corpus/versions/3/wiki_corpus_2.01/BDS/BDS00005.xml'),\n",
      " WindowsPath('C:/Users/laran/.cache/kagglehub/datasets/team-ai/japaneseenglish-bilingual-corpus/versions/3/wiki_corpus_2.01/BDS/BDS00006.xml')]\n"
     ]
    }
   ],
   "source": [
    "files=sorted(p for p in root.rglob(\"*\") if p.is_file())\n",
    "pprint(files[:10])"
   ]
  },
  {
   "cell_type": "markdown",
   "id": "5dec28ad",
   "metadata": {},
   "source": [
    "Files are mostly XML files, to be able to use the parallel english / japanese text the XML files must be parsed first: "
   ]
  },
  {
   "cell_type": "markdown",
   "id": "32171a0a",
   "metadata": {},
   "source": [
    "### 1) check the tags"
   ]
  },
  {
   "cell_type": "code",
   "execution_count": 4,
   "id": "dda9756b",
   "metadata": {},
   "outputs": [
    {
     "name": "stdout",
     "output_type": "stream",
     "text": [
      "art {'orl': 'ja', 'trl': 'en'}\n"
     ]
    }
   ],
   "source": [
    "base = root / \"wiki_corpus_2.01\" / \"BDS\"\n",
    "xml_file = sorted(base.glob(\"BDS*.xml\"))[0]\n",
    "root = ET.parse(xml_file).getroot()\n",
    "\n",
    "for el in root.iter():\n",
    "    print(el.tag, el.attrib)\n",
    "    # Stop early to avoid printing everything\n",
    "    if len(list(el)) > 0:\n",
    "        break\n"
   ]
  },
  {
   "cell_type": "markdown",
   "id": "01b02780",
   "metadata": {},
   "source": [
    "Tags are 'ja' for japanese and 'en' for english.  \n",
    "The structure will be further explored to properly extract japanese - english pairs\n",
    "\n",
    "### 2. inspect the structure"
   ]
  },
  {
   "cell_type": "code",
   "execution_count": 5,
   "id": "366a9fa7",
   "metadata": {},
   "outputs": [
    {
     "name": "stdout",
     "output_type": "stream",
     "text": [
      "Level-1 child tags: Counter({'sec': 6, 'par': 5, 'inf': 1, 'tit': 1, 'copyright': 1})\n",
      "\n",
      "<inf> children: Counter()\n",
      "  sample leaf <inf>: jawiki-20080607-pages-articles.xml\n",
      "\n",
      "<tit> children: Counter({'e': 3, 'cmt': 3, 'j': 1})\n",
      "  sample leaf <j>: 雪舟\n",
      "\n",
      "<par> children: Counter({'sen': 2})\n",
      "  sample leaf <j>: 雪舟（せっしゅう、1420年（応永27年） - 1506年（永正3年））は号で、15世紀後半室町時代に活躍した水墨画家・禅僧で、画聖とも称えられる。\n",
      "\n",
      "<sec> children: Counter({'par': 3, 'tit': 1})\n",
      "  sample leaf <j>: 生涯\n",
      "\n",
      "<copyright> children: Counter()\n",
      "  sample leaf <copyright>: copyright (c) 2010 Avanzare(id:34657), Kanejan(id:78613), Tommy6(id:51773), Nnh(id:474), Suguri F(id:11127), FREEZA(id:6\n"
     ]
    }
   ],
   "source": [
    "assert root.tag.endswith(\"art\") and root.attrib.get(\"orl\")==\"ja\" and root.attrib.get(\"trl\")==\"en\"\n",
    "\n",
    "# List first-level children under <art>\n",
    "lvl1 = [c.tag for c in root]\n",
    "\n",
    "print(\"Level-1 child tags:\", Counter(lvl1))\n",
    "\n",
    "# Peek deeper: for each distinct lvl1 tag, show its distinct children and sample text\n",
    "def strip_ns(tag): \n",
    "    return tag.split(\"}\",1)[1] if \"}\" in tag else tag\n",
    "\n",
    "seen = set()\n",
    "for c in root:\n",
    "    t = strip_ns(c.tag)\n",
    "    if t in seen: \n",
    "        continue\n",
    "    seen.add(t)\n",
    "    sub = [strip_ns(x.tag) for x in list(c)]\n",
    "    print(f\"\\n<{t}> children:\", Counter(sub))\n",
    "    # print a couple of leaf texts\n",
    "    for leaf in c.iter():\n",
    "        if len(list(leaf))==0 and (leaf.text or \"\").strip():\n",
    "            txt = leaf.text.strip().replace(\"\\n\",\" \")[:120]\n",
    "            print(f\"  sample leaf <{strip_ns(leaf.tag)}>: {txt}\")\n",
    "            break\n"
   ]
  },
  {
   "cell_type": "markdown",
   "id": "b886d636",
   "metadata": {},
   "source": [
    "**interpretation**: \n",
    "- Root is: <art orl=\"ja\" trl=\"en\">\n",
    "- frequent childrens are: sec, par, tit, inf, copyright\n",
    "- language tags are: < j > for japanese and < e > for english \n",
    "\n",
    "\n",
    "With these informations we can built the extractor. "
   ]
  },
  {
   "cell_type": "markdown",
   "id": "a04eb13a",
   "metadata": {},
   "source": [
    "### 3) Built the extractor and the paired dataframe"
   ]
  },
  {
   "cell_type": "code",
   "execution_count": 6,
   "id": "dce48e68",
   "metadata": {},
   "outputs": [],
   "source": [
    "# base = root / \"wiki_corpus_2.01\" / \"BDS\"\n",
    "base.glob(\"BDS*.xml\")\n",
    "\n",
    "TAG_PAIR      = None         # No wrapper available\n",
    "TAG_ORIGINAL  = \"j\"          # japanese tag\n",
    "TAG_TRANSL    = \"e\"          # english tag\n",
    "\n",
    "def strip_ns(tag):\n",
    "    return tag.split(\"}\",1)[1] if \"}\" in tag else tag\n",
    "\n",
    "def text_or_none(el):\n",
    "    return (el.text or \"\").strip() if el is not None and el.text else None\n",
    "\n",
    "pairs = []\n",
    "for xf in sorted(base.glob(\"BDS*.xml\")):\n",
    "    root = ET.parse(xf).getroot()\n",
    "\n",
    "    if TAG_PAIR:\n",
    "        # option 1 --> if I have the wrapper (not our case as TAG_PAIR=None)\n",
    "        for node in root.findall(f\".//{TAG_PAIR}\"):\n",
    "            ja = text_or_none(node.find(TAG_ORIGINAL))\n",
    "            en = text_or_none(node.find(TAG_TRANSL))\n",
    "            if ja and en:\n",
    "                pairs.append((ja, en))\n",
    "    else:\n",
    "        # option 2 --> called in case we have no explicit wrapper (our case)\n",
    "        for node in root.iter():\n",
    "            children = list(node)\n",
    "            if not children: \n",
    "                continue\n",
    "            tagmap = {strip_ns(c.tag).lower(): c for c in children}\n",
    "            if TAG_ORIGINAL.lower() in tagmap and TAG_TRANSL.lower() in tagmap:\n",
    "                ja = text_or_none(tagmap[TAG_ORIGINAL.lower()])\n",
    "                en = text_or_none(tagmap[TAG_TRANSL.lower()])\n",
    "                if ja and en:\n",
    "                    pairs.append((ja, en))\n",
    "\n",
    "df = pd.DataFrame(pairs, columns=[\"ja\", \"en\"]).dropna()   # dataframe and cleaning\n"
   ]
  },
  {
   "cell_type": "markdown",
   "id": "77f6dc56",
   "metadata": {},
   "source": [
    "### 4) inspect the newly created dataframe.  \n",
    "\n",
    "Does it make sense? were the tag correctly extracted?"
   ]
  },
  {
   "cell_type": "code",
   "execution_count": 7,
   "id": "bc14da3b",
   "metadata": {},
   "outputs": [
    {
     "data": {
      "text/html": [
       "<div>\n",
       "<style scoped>\n",
       "    .dataframe tbody tr th:only-of-type {\n",
       "        vertical-align: middle;\n",
       "    }\n",
       "\n",
       "    .dataframe tbody tr th {\n",
       "        vertical-align: top;\n",
       "    }\n",
       "\n",
       "    .dataframe thead th {\n",
       "        text-align: right;\n",
       "    }\n",
       "</style>\n",
       "<table border=\"1\" class=\"dataframe\">\n",
       "  <thead>\n",
       "    <tr style=\"text-align: right;\">\n",
       "      <th></th>\n",
       "      <th>ja</th>\n",
       "      <th>en</th>\n",
       "    </tr>\n",
       "  </thead>\n",
       "  <tbody>\n",
       "    <tr>\n",
       "      <th>0</th>\n",
       "      <td>雪舟</td>\n",
       "      <td>Sesshu</td>\n",
       "    </tr>\n",
       "    <tr>\n",
       "      <th>1</th>\n",
       "      <td>雪舟（せっしゅう、1420年（応永27年） - 1506年（永正3年））は号で、15世紀後半...</td>\n",
       "      <td>Known as Sesshu (1420 - 1506), he was an ink p...</td>\n",
       "    </tr>\n",
       "    <tr>\n",
       "      <th>2</th>\n",
       "      <td>日本の水墨画を一変させた。</td>\n",
       "      <td>He revolutionized the Japanese ink painting.</td>\n",
       "    </tr>\n",
       "    <tr>\n",
       "      <th>3</th>\n",
       "      <td>諱は「等楊（とうよう）」、もしくは「拙宗（せっしゅう）」と号した。</td>\n",
       "      <td>He was given the posthumous name \"Toyo\" or \"Se...</td>\n",
       "    </tr>\n",
       "    <tr>\n",
       "      <th>4</th>\n",
       "      <td>備中国に生まれ、京都・相国寺に入ってから周防国に移る。</td>\n",
       "      <td>Born in Bicchu Province, he moved to Suo Provi...</td>\n",
       "    </tr>\n",
       "  </tbody>\n",
       "</table>\n",
       "</div>"
      ],
      "text/plain": [
       "                                                  ja  \\\n",
       "0                                                 雪舟   \n",
       "1  雪舟（せっしゅう、1420年（応永27年） - 1506年（永正3年））は号で、15世紀後半...   \n",
       "2                                      日本の水墨画を一変させた。   \n",
       "3                  諱は「等楊（とうよう）」、もしくは「拙宗（せっしゅう）」と号した。   \n",
       "4                        備中国に生まれ、京都・相国寺に入ってから周防国に移る。   \n",
       "\n",
       "                                                  en  \n",
       "0                                             Sesshu  \n",
       "1  Known as Sesshu (1420 - 1506), he was an ink p...  \n",
       "2       He revolutionized the Japanese ink painting.  \n",
       "3  He was given the posthumous name \"Toyo\" or \"Se...  \n",
       "4  Born in Bicchu Province, he moved to Suo Provi...  "
      ]
     },
     "execution_count": 7,
     "metadata": {},
     "output_type": "execute_result"
    }
   ],
   "source": [
    "df.head(5)"
   ]
  },
  {
   "cell_type": "code",
   "execution_count": 8,
   "id": "2a1c4bab",
   "metadata": {},
   "outputs": [
    {
     "name": "stdout",
     "output_type": "stream",
     "text": [
      "Total pairs: 28384\n"
     ]
    }
   ],
   "source": [
    "print(\"Total pairs:\", len(df))"
   ]
  },
  {
   "cell_type": "markdown",
   "id": "ab6b79d0",
   "metadata": {},
   "source": [
    "### 5) Prepare the data for machine translation"
   ]
  },
  {
   "cell_type": "code",
   "execution_count": 9,
   "id": "5018480a",
   "metadata": {},
   "outputs": [],
   "source": [
    "X = df['ja']   # original \n",
    "y = df['en']   # translated\n",
    "\n",
    "X_train, X_test, y_train, y_test = train_test_split(X, y, test_size=0.2, random_state=42)\n",
    "\n",
    "\n",
    "X_train, X_val, y_train, y_val = train_test_split(\n",
    "    X_train, y_train, \n",
    "    test_size=0.1,  # for the validation set\n",
    "    random_state=42\n",
    ")"
   ]
  },
  {
   "cell_type": "code",
   "execution_count": 10,
   "id": "da77c98e",
   "metadata": {},
   "outputs": [
    {
     "name": "stdout",
     "output_type": "stream",
     "text": [
      "----Overview----\n",
      "\n",
      "Training set size: 20436 entries\n",
      "Testing set size: 5677 entries\n",
      "Validation set size: 2271 entries\n"
     ]
    }
   ],
   "source": [
    "# checks\n",
    "print(f\"----Overview----\")\n",
    "print(\"\")\n",
    "print(f\"Training set size: {len(X_train)} entries\")\n",
    "print(f\"Testing set size: {len(X_test)} entries\")\n",
    "print(f\"Validation set size: {len(X_val)} entries\")"
   ]
  },
  {
   "cell_type": "markdown",
   "id": "b66159d9",
   "metadata": {},
   "source": [
    "## Tokenization & Model \n",
    "\n",
    "The model selected is the multilingual Bart from Huggingface (https://huggingface.co/docs/transformers/en/model_doc/bart).   \n",
    "It will be set-up to be fine tuned on the dataset containing many historical and artistic information. Due to the resources required the model will not be trained, but his pre-trained version will be used instead.  \n",
    "\n",
    "Scoring will be performed from BLEU score, which evaluate the sequence of words between the generated sentence and the original, and also by BERTScore which evaluate instead the semantical similarity between the generated text and the reference one. "
   ]
  },
  {
   "cell_type": "code",
   "execution_count": 11,
   "id": "9719e703",
   "metadata": {},
   "outputs": [],
   "source": [
    "from transformers import MBartForConditionalGeneration, MBart50TokenizerFast\n",
    "import torch\n",
    "from transformers import Trainer, TrainingArguments\n",
    "from datasets import Dataset\n",
    "from transformers import DataCollatorForSeq2Seq\n",
    "from sacrebleu import corpus_bleu, sentence_bleu\n",
    "import numpy as np\n",
    "\n",
    "import torch.nn.functional as F\n",
    "import random\n",
    "import copy\n",
    "\n",
    "from bert_score import score\n",
    "\n",
    "from nltk.translate.bleu_score import sentence_bleu, corpus_bleu, SmoothingFunction"
   ]
  },
  {
   "cell_type": "code",
   "execution_count": 12,
   "id": "010f1605",
   "metadata": {},
   "outputs": [],
   "source": [
    "# model and tokenizer initialization\n",
    "model_name=\"facebook/mbart-large-50-many-to-many-mmt\"\n",
    "tokenizer=MBart50TokenizerFast.from_pretrained(model_name)\n",
    "model=MBartForConditionalGeneration.from_pretrained(model_name)"
   ]
  },
  {
   "cell_type": "code",
   "execution_count": 13,
   "id": "56f255d7",
   "metadata": {},
   "outputs": [],
   "source": [
    "tokenizer.src_lang= \"ja_XX\"   # source language (original) = japanese\n",
    "tokenizer.tgt_lang= \"en_XX\"    # translated language  = english"
   ]
  },
  {
   "cell_type": "code",
   "execution_count": 14,
   "id": "11a9a601",
   "metadata": {},
   "outputs": [],
   "source": [
    "def preprocess_function(examples):\n",
    "    inputs= tokenizer(\n",
    "        examples['ja'], \n",
    "        max_length=128, \n",
    "        truncation=True, \n",
    "        padding=True\n",
    "    )\n",
    "\n",
    "    with tokenizer.as_target_tokenizer():\n",
    "        labels=tokenizer(\n",
    "            examples['en'], \n",
    "            max_length=128, \n",
    "            truncation=True, \n",
    "            padding=True\n",
    "        )\n",
    "    inputs[\"labels\"]=labels[\"input_ids\"]\n",
    "    return inputs"
   ]
  },
  {
   "cell_type": "code",
   "execution_count": 15,
   "id": "2b67c583",
   "metadata": {},
   "outputs": [],
   "source": [
    "train_dataset = Dataset.from_pandas(pd.DataFrame({\n",
    "    'ja': X_train, \n",
    "    'en': y_train\n",
    "}))\n",
    "\n",
    "val_dataset = Dataset.from_pandas(pd.DataFrame({\n",
    "    'ja': X_val, \n",
    "    'en': y_val\n",
    "}))\n",
    "\n",
    "test_df=pd.DataFrame({'ja': X_test, 'en':y_test})"
   ]
  },
  {
   "cell_type": "code",
   "execution_count": 16,
   "id": "b1d478bf",
   "metadata": {},
   "outputs": [
    {
     "name": "stderr",
     "output_type": "stream",
     "text": [
      "Map:   0%|          | 0/20436 [00:00<?, ? examples/s]c:\\Users\\laran\\Home\\Documents\\code\\venv\\NLPvenv\\Lib\\site-packages\\transformers\\tokenization_utils_base.py:3961: UserWarning: `as_target_tokenizer` is deprecated and will be removed in v5 of Transformers. You can tokenize your labels by using the argument `text_target` of the regular `__call__` method (either in the same call as your input texts if you use the same keyword arguments, or in a separate call.\n",
      "  warnings.warn(\n",
      "Map: 100%|██████████| 20436/20436 [00:01<00:00, 12407.90 examples/s]\n",
      "Map: 100%|██████████| 2271/2271 [00:00<00:00, 14391.27 examples/s]\n"
     ]
    }
   ],
   "source": [
    "train_dataset=train_dataset.map(preprocess_function, batched=True)\n",
    "val_dataset=val_dataset.map(preprocess_function, batched=True)"
   ]
  },
  {
   "cell_type": "code",
   "execution_count": 17,
   "id": "b0967131",
   "metadata": {},
   "outputs": [],
   "source": [
    "data_collator=DataCollatorForSeq2Seq(\n",
    "    tokenizer=tokenizer, \n",
    "    model=model, \n",
    "    padding=True\n",
    ")"
   ]
  },
  {
   "cell_type": "code",
   "execution_count": 18,
   "id": "e1bf2b4f",
   "metadata": {},
   "outputs": [
    {
     "name": "stdout",
     "output_type": "stream",
     "text": [
      "CUDA available: True\n",
      "GPU count: 1\n",
      "Current GPU: NVIDIA GeForce RTX 4070 Laptop GPU\n",
      "GPU memory: 8.6 GB\n"
     ]
    }
   ],
   "source": [
    "# GPU setup\n",
    "print(f\"CUDA available: {torch.cuda.is_available()}\")\n",
    "print(f\"GPU count: {torch.cuda.device_count()}\")\n",
    "if torch.cuda.is_available():\n",
    "    print(f\"Current GPU: {torch.cuda.get_device_name(0)}\")\n",
    "    print(f\"GPU memory: {torch.cuda.get_device_properties(0).total_memory / 1e9:.1f} GB\")"
   ]
  },
  {
   "cell_type": "code",
   "execution_count": 19,
   "id": "91fefb07",
   "metadata": {},
   "outputs": [
    {
     "name": "stdout",
     "output_type": "stream",
     "text": [
      "Model is on: cuda:0\n"
     ]
    }
   ],
   "source": [
    "device = torch.device(\"cuda\" if torch.cuda.is_available() else \"cpu\")\n",
    "model = model.to(device)\n",
    "print(f\"Model is on: {model.device}\")"
   ]
  },
  {
   "cell_type": "code",
   "execution_count": 20,
   "id": "2d00300b",
   "metadata": {},
   "outputs": [
    {
     "name": "stderr",
     "output_type": "stream",
     "text": [
      "c:\\Users\\laran\\Home\\Documents\\code\\venv\\NLPvenv\\Lib\\site-packages\\transformers\\training_args.py:1575: FutureWarning: `evaluation_strategy` is deprecated and will be removed in version 4.46 of 🤗 Transformers. Use `eval_strategy` instead\n",
      "  warnings.warn(\n"
     ]
    }
   ],
   "source": [
    "training_args = TrainingArguments(\n",
    "    output_dir='./mbart-cultural-ja-en',\n",
    "    num_train_epochs=3,\n",
    "    per_device_train_batch_size=4,\n",
    "    per_device_eval_batch_size=4,\n",
    "    warmup_steps=500,\n",
    "    weight_decay=0.01,\n",
    "    logging_dir='./logs',\n",
    "    evaluation_strategy=\"steps\",\n",
    "    eval_steps=1000,\n",
    "    save_steps=2000,\n",
    "    load_best_model_at_end=True,\n",
    "    fp16=True,  # Enables mixed precision - faster training on modern GPUs\n",
    ")"
   ]
  },
  {
   "cell_type": "code",
   "execution_count": 21,
   "id": "7afe2482",
   "metadata": {},
   "outputs": [
    {
     "name": "stdout",
     "output_type": "stream",
     "text": [
      "Using batch size: 4\n"
     ]
    }
   ],
   "source": [
    "if torch.cuda.is_available():\n",
    "    gpu_memory_gb = torch.cuda.get_device_properties(0).total_memory / 1e9\n",
    "    \n",
    "    if gpu_memory_gb >= 16:\n",
    "        batch_size = 8  # Can handle larger batches\n",
    "    elif gpu_memory_gb >= 8:\n",
    "        batch_size = 4  # Your current setting\n",
    "    else:\n",
    "        batch_size = 2  # Smaller GPU\n",
    "        \n",
    "    print(f\"Using batch size: {batch_size}\")\n",
    "    \n",
    "    # Update your training args\n",
    "    training_args.per_device_train_batch_size = batch_size\n",
    "    training_args.per_device_eval_batch_size = batch_size"
   ]
  },
  {
   "cell_type": "code",
   "execution_count": 22,
   "id": "000a006d",
   "metadata": {},
   "outputs": [
    {
     "name": "stderr",
     "output_type": "stream",
     "text": [
      "C:\\Users\\laran\\AppData\\Local\\Temp\\ipykernel_57772\\1253686246.py:1: FutureWarning: `tokenizer` is deprecated and will be removed in version 5.0.0 for `Trainer.__init__`. Use `processing_class` instead.\n",
      "  trainer=Trainer(\n"
     ]
    }
   ],
   "source": [
    "trainer=Trainer(\n",
    "    model=model, \n",
    "    args=training_args, \n",
    "    train_dataset=train_dataset, \n",
    "    eval_dataset=val_dataset, \n",
    "    data_collator=data_collator,\n",
    "    tokenizer=tokenizer \n",
    ")"
   ]
  },
  {
   "cell_type": "code",
   "execution_count": 23,
   "id": "bd4c2f36",
   "metadata": {},
   "outputs": [],
   "source": [
    "# print(\"Starting training...\")\n",
    "# trainer.train()"
   ]
  },
  {
   "cell_type": "markdown",
   "id": "4ff786f9",
   "metadata": {},
   "source": [
    "Time required is approx 15h training. We will use a pre-trained model without MLE fine tutning. "
   ]
  },
  {
   "cell_type": "code",
   "execution_count": 24,
   "id": "87ceeed5",
   "metadata": {},
   "outputs": [
    {
     "name": "stdout",
     "output_type": "stream",
     "text": [
      "Using sample 5 from test dataset\n",
      "Japanese: 管長を補佐する宗務総監の指揮監督の下、庶務部・教学部・海外部・渉外部・財務部の5部門によって宗務行政が分担される近代的事務機構が構築されている。\n",
      "English reference: There is a modern official system established and general political matters are divided into five divisions under the supervision of the General Office Director who supports kancho, such as Shomubu (General Affairs Department), Kyogakubu (Educational Department), Kaigaibu (Overseas Department), Shogaibu (Public Relations Department) and Zaimubu (Finance Department).\n",
      "Model translation: Under the supervision of the Director General of Sectarian Affairs, who assists the Director General, a modern administrative organization has been established in which Sectarian administration is divided into five departments: the Department of General Affairs, the Department of Teaching, the Department of Overseas Affairs, the Department of External Relations, and the Department of Finance.\n"
     ]
    }
   ],
   "source": [
    "sample_idx= 5\n",
    "test_ja=X_test.iloc[sample_idx]\n",
    "test_en_reference=y_test.iloc[sample_idx]\n",
    "\n",
    "inputs = tokenizer(test_ja, return_tensors=\"pt\").to(\"cuda\")\n",
    "outputs = model.generate(**inputs, forced_bos_token_id=tokenizer.lang_code_to_id[\"en_XX\"])\n",
    "result = tokenizer.decode(outputs[0], skip_special_tokens=True)\n",
    "\n",
    "print(f\"Using sample {sample_idx} from test dataset\")\n",
    "print(f\"Japanese: {test_ja}\")\n",
    "print(f\"English reference: {test_en_reference}\")\n",
    "print(f\"Model translation: {result}\")"
   ]
  },
  {
   "cell_type": "code",
   "execution_count": 25,
   "id": "3e1b012c",
   "metadata": {},
   "outputs": [
    {
     "name": "stdout",
     "output_type": "stream",
     "text": [
      "model evaluation before optimization\n",
      "####################\n",
      " \n",
      "Evaluating on 50 samples...\n",
      "\n",
      "Example 1:\n",
      "JA:  1917年（大正6年）勧学が追贈されている。\n",
      "REF: In 1917, he was promoted to Kangaku ranking after his death.\n",
      "GEN: In 1917, he was promoted to Kangaku.\n",
      "BLEU: 45.69, BERTScore F1: 0.963\n",
      "\n",
      "Example 2:\n",
      "JA:  それゆえに直日・直堂も、修行者も、両者ともが警策を「与える」・「いただく」前後に合掌低頭し、お互いに感謝の意を表わす。\n",
      "REF: Therefore, both of Jikijitsu or jikido and meditators make the gassho (place the palms of the hands together in the position of prayer) and bow their head to show their gratitude each other, before and after the keisaku (kyosaku) is to \"give\" and \"receive\".\n",
      "GEN: Therefore, both Naoki and Naodo, as well as the practitioners, both \"give\" and \"receive\" the precaution, holding their hands and lowering their heads, expressing their gratitude to each other.\n",
      "BLEU: 1.75, BERTScore F1: 0.878\n",
      "\n",
      "Example 3:\n",
      "JA:  古市 胤栄（ふるいち いんえい、生年不詳 - 永正2年（1505年））は、戦国時代 (日本)の僧・武将。\n",
      "REF: Ine FURUICHI (year of birth unknown - 1505) is a priest and a Japanese military commander during the Sengoku period.\n",
      "GEN: Taneie Furuichi (year of birth unknown - 1505) was a Buddhist monk and warrior in the Sengoku period (Japan).\n",
      "BLEU: 28.14, BERTScore F1: 0.932\n",
      "\n",
      "Example 4:\n",
      "JA:  道忠自身は鑑真の弟子で、律宗の僧侶であったが、戒壇が設けられた下野薬師寺との関連か東国に住し、広く弟子を持つ僧侶であった。\n",
      "REF: Dochu himself was a disciple of Ganjin and a Buddhist priest in Ritsu sect, but he lived in Togoku maybe because he had a relationship with Shimotsuke Yakushi-ji Temple which had Kaidan (Buddhist ordination platform) and he had many disciples across a wide range.\n",
      "GEN: Michitada himself was a disciple of Kanshin and was a priest of the Ritsuryo sect, but he lived in the eastern country in connection with Shimono Yakushi-ji Temple, where the戒壇 was established, and had a large number of disciples.\n",
      "BLEU: 18.78, BERTScore F1: 0.903\n",
      "\n",
      "Example 5:\n",
      "JA:  つまり、律令体制下の仏教で国家の庇護を受けて仏教の研究を行い、宗教上の実践行為は鎮護国家という理念の下で呪術的な祈祷を行う程度であったといわれる。\n",
      "REF: In other words, they were the Buddhism under the Ritsuryo system; the priests of these sects were just scholars studying Buddhism under the protection of the nation, and as for actual religious activity, they just performed some magical prayers for the idea of Chingo-Kokka (guarding the nation by Buddhism).\n",
      "GEN: In other words, they studied Buddhism under the Ritsuryo system under the protection of the state, and religious practice was to the extent that they performed magical prayers under the philosophy of protecting the state.\n",
      "BLEU: 18.37, BERTScore F1: 0.913\n"
     ]
    }
   ],
   "source": [
    "print(\"model evaluation before optimization\")\n",
    "print(\"#\"*20)\n",
    "print(\" \")\n",
    "\n",
    "baseline_results = utils.evaluate_model(model, tokenizer, X_test, y_test, max_samples=50)"
   ]
  },
  {
   "cell_type": "code",
   "execution_count": null,
   "id": "c88869f6",
   "metadata": {},
   "outputs": [
    {
     "name": "stdout",
     "output_type": "stream",
     "text": [
      "pre_optimization metrics\n",
      "####################\n",
      "Corpus BLEU: 0.00\n",
      "Corpus Bert: 0.90\n",
      "Average Sentence BLEU: 11.53 ± 15.78\n"
     ]
    }
   ],
   "source": [
    "print(\"pre_optimization metrics\")\n",
    "print(\"#\"*20)\n",
    "print(f\"Corpus BLEU: {baseline_results['corpus_bleu']:.2f}\")\n",
    "print(f\"Corpus Bert: {baseline_results['corpus_bert']:.2f}\")\n",
    "print(f\"Average Sentence BLEU: {baseline_results['avg_sentence_bleu']:.2f} ± {baseline_results['std_sentence_bleu']:.2f}\")\n",
    "\n",
    "baseline_corpus_bleu=baseline_results['corpus_bleu']\n",
    "baseline_corpus_bert=baseline_results['corpus_bert']\n",
    "baseline_avg_bleu=baseline_results['avg_sentence_bleu']   \n",
    "   "
   ]
  },
  {
   "cell_type": "markdown",
   "id": "4317ac6d",
   "metadata": {},
   "source": [
    "##  Model optimization through RL"
   ]
  },
  {
   "cell_type": "code",
   "execution_count": 27,
   "id": "fefbd1dc",
   "metadata": {},
   "outputs": [],
   "source": [
    "def compute_bleu_reward(generated_text, reference_text):\n",
    "    \"\"\"Compute sentence-level BLEU as reward\"\"\"\n",
    "    try:\n",
    "        bleu = sentence_bleu(generated_text, [reference_text]).score / 100.0\n",
    "        return max(bleu, 0.01)  # Avoid zero rewards\n",
    "    except:\n",
    "        return 0.01\n",
    "    \n",
    "def compute_bert_reward(generated_text, reference_text):\n",
    "    \"\"\"Compute semantic level Bert score as reward\"\"\"\n",
    "    P, R, F1 = score(\n",
    "        [generated_text], \n",
    "        [reference_text], \n",
    "        lang=\"en\",\n",
    "        verbose=False,\n",
    "    )\n",
    "    return F1.item()\n",
    "\n",
    "def rl_training_step(model, tokenizer, batch_ja, batch_en_ref, optimizer):\n",
    "    \"\"\"Single RL training step using reinforcement learning\"\"\"\n",
    "    model.train()\n",
    "    total_loss = 0\n",
    "    \n",
    "    for ja_text, en_ref in zip(batch_ja, batch_en_ref):\n",
    "        # Tokenize input\n",
    "        inputs = tokenizer(ja_text, return_tensors=\"pt\", max_length=128, truncation=True).to(\"cuda\")\n",
    "        \n",
    "        # not greedy --> RL\n",
    "        with torch.no_grad():\n",
    "            generated_outputs = model.generate(\n",
    "                **inputs,\n",
    "                forced_bos_token_id=tokenizer.lang_code_to_id[\"en_XX\"],\n",
    "                max_length=128,\n",
    "                do_sample=True,  # must sample for RL\n",
    "                temperature=1.0,\n",
    "                pad_token_id=tokenizer.pad_token_id,\n",
    "                return_dict_in_generate=True,\n",
    "                output_scores=True\n",
    "            )\n",
    "        \n",
    "        # reward setup\n",
    "        generated_ids = generated_outputs.sequences[0]\n",
    "        generated_text = tokenizer.decode(generated_ids, skip_special_tokens=True)\n",
    "        bleu_reward = compute_bleu_reward(generated_text, en_ref)\n",
    "        bert_reward=compute_bert_reward(generated_text, en_ref)\n",
    "\n",
    "        reward=0.5* bleu_reward + 0.5* bert_reward\n",
    "        reward=float(reward)\n",
    "        \n",
    "        # forward pass\n",
    "        decoder_input_ids = generated_ids[:-1].unsqueeze(0)  # remove last token\n",
    "        labels = generated_ids[1:].unsqueeze(0)  \n",
    "        \n",
    "        outputs = model(\n",
    "            input_ids=inputs.input_ids,\n",
    "            decoder_input_ids=decoder_input_ids,\n",
    "            labels=labels\n",
    "        )\n",
    "        \n",
    "        log_probs = F.log_softmax(outputs.logits, dim=-1)\n",
    "        selected_log_probs = log_probs.gather(2, labels.unsqueeze(-1)).squeeze(-1)\n",
    "        \n",
    "        # Policy grandient negative to maximize reward\n",
    "        loss = -selected_log_probs.mean() * reward\n",
    "        total_loss += loss \n",
    "\n",
    "        print(f\"JA: {ja_text[:50]}...\")\n",
    "        print(f\"Generated: {generated_text}\")\n",
    "        print(f\"Reference: {en_ref}\")\n",
    "        print(f\"BLEU Reward: {reward:.3f}\")\n",
    "        print(f\"Loss: {loss.item():.3f}\")\n",
    "        print(\"-\" * 60)\n",
    "    \n",
    "    # update to new state\n",
    "    avg_loss = total_loss / len(batch_ja)\n",
    "    avg_loss.backward()\n",
    "    optimizer.step()\n",
    "    optimizer.zero_grad()\n",
    "    \n",
    "    return avg_loss.item()\n",
    "\n"
   ]
  },
  {
   "cell_type": "code",
   "execution_count": 28,
   "id": "83d5738b",
   "metadata": {},
   "outputs": [],
   "source": [
    "# copying th eoriginal model to have a comparison after optimization\n",
    "\n",
    "model_baseline = copy.deepcopy(model)\n",
    "model_baseline.eval()\n",
    "model_RL = model"
   ]
  },
  {
   "cell_type": "code",
   "execution_count": 29,
   "id": "6131c163",
   "metadata": {},
   "outputs": [
    {
     "name": "stdout",
     "output_type": "stream",
     "text": [
      "Starting RL training\n",
      "####################\n",
      "\n",
      "--- RL Step 1/30 ---\n",
      "JA: 現在では臨済宗・黄檗宗と曹洞宗で、役職の位置づけがやや異なる。...\n",
      "Generated: At present, the positions of official positions are slightly different in the Rinzai Sect, the Huangxi Sect, and the Caodong Sect.\n",
      "Reference: Today, the details of the position differ slightly between the Rinzai/Obaku sects and the Soto sect.\n",
      "BLEU Reward: 0.458\n",
      "Loss: 0.278\n",
      "------------------------------------------------------------\n",
      "JA: 阿弥陀寺（あみだじ）は、京都市上京区にある浄土宗の寺院。...\n",
      "Generated: Amida-ji Temple is a temple of the Jodo sect located in Kamigyo Ward, Kyoto City.\n",
      "Reference: Amida-ji Temple is the temple of the Jodo (Pure Land) sect in Kamigyo Ward, Kyoto City.\n",
      "BLEU Reward: 0.490\n",
      "Loss: 0.148\n",
      "------------------------------------------------------------\n",
      "Average Loss: 0.2132\n",
      "\n",
      "--- RL Step 2/30 ---\n",
      "JA: これに土をかぶせる。...\n",
      "Generated: I'll put the soil on it.\n",
      "Reference: Next, covered it up with clay soil.\n",
      "BLEU Reward: 0.466\n",
      "Loss: 0.437\n",
      "------------------------------------------------------------\n",
      "JA: 構成...\n",
      "Generated: Configuration\n",
      "Reference: Structure\n",
      "BLEU Reward: 0.504\n",
      "Loss: 0.210\n",
      "------------------------------------------------------------\n",
      "Average Loss: 0.3236\n",
      "\n",
      "--- RL Step 3/30 ---\n",
      "JA: 海門承朝...\n",
      "Generated: Seimon Shocho\n",
      "Reference: Kaimon Shocho\n",
      "BLEU Reward: 0.485\n",
      "Loss: 0.578\n",
      "------------------------------------------------------------\n",
      "JA: 跋提河の春の浪哀声再び聞え、沙羅林の朝の雲憂色重て聳え、眼を戴いて天を迎げば、則ち白霧胸に塞りて散せ...\n",
      "Generated: The waves of the waves of the spring of the Prati River heard again, and the clouds of the morning of the forest of the Sharo gray and tall, and with eyes and eyes facing the sky, then the white mist did not scatter on the chest.\n",
      "Reference: Walking on the riverbanks this spring, we hear people wailing among the camellia trees that stand in the heavy morning mist, and when we raise our eyes to the heavens we feel a mist of sadness clouding our hearts.\n",
      "BLEU Reward: 0.431\n",
      "Loss: 0.505\n",
      "------------------------------------------------------------\n",
      "Average Loss: 0.5412\n",
      "\n",
      "--- RL Step 4/30 ---\n",
      "JA: 阿弥陀寺（あみだじ）は、京都市上京区にある浄土宗の寺院。...\n",
      "Generated: Amida-ji Temple is a temple of the Jodo sect located in Kamigyo Ward, Kyoto City.\n",
      "Reference: Amida-ji Temple is the temple of the Jodo (Pure Land) sect in Kamigyo Ward, Kyoto City.\n",
      "BLEU Reward: 0.490\n",
      "Loss: 0.070\n",
      "------------------------------------------------------------\n",
      "JA: 山号は葉室山。...\n",
      "Generated: The name of the mountain is Mt.\n",
      "Reference: Its sango (literally, \"mountain name\"), which is the title prefixed to the name of a Buddhist temple, is Hamurosan.\n",
      "BLEU Reward: 0.436\n",
      "Loss: 0.350\n",
      "------------------------------------------------------------\n",
      "Average Loss: 0.2102\n",
      "\n",
      "--- RL Step 5/30 ---\n",
      "JA: 禅宗では法嗣といい、釈迦 - 摩訶迦葉へと伝えられた教外別伝の法を、代々受け継いだ付法蔵の第28祖が...\n",
      "Generated: In the Zen sect, he claimed that the 28th ancestor of the priesthood, who had been inherited by generations, was Daima, who had passed on the teachings of the different sects of Buddhism to Shaka-Makhaya, called the Buddhist heir.\n",
      "Reference: It is called Hoshi in the Zen Sect, in which they claim that it was Daruma who was the twenty-eighth founder of fuhozo (those who, after Shakyamuni Buddha's death, successively inherited the lineage of his teachings and propagated them in India) that succeeded the Kyogai betsuden teaching (transmission of spiritual awakening without words or characters, but in a heart-to-heart way) from Shakamuni to Makakasho, through intuitive discernment from generation to generation.\n",
      "BLEU Reward: 0.432\n",
      "Loss: 0.393\n",
      "------------------------------------------------------------\n",
      "JA: 阿弥陀寺（あみだじ）は、京都市上京区にある浄土宗の寺院。...\n",
      "Generated: Amida-ji Temple is a temple of the Jodo Sect located in Kamigyo Ward, Kyoto City.\n",
      "Reference: Amida-ji Temple is the temple of the Jodo (Pure Land) sect in Kamigyo Ward, Kyoto City.\n",
      "BLEU Reward: 0.490\n",
      "Loss: 0.053\n",
      "------------------------------------------------------------\n",
      "Average Loss: 0.2228\n",
      "\n",
      "--- RL Step 6/30 ---\n",
      "JA: 僧尼令（そうにりょう）とは、日本律令法に設けられた編目の1つ。...\n",
      "Generated: Soni-ryo is one of the chapters set out in the Japanese Ritsuryo Law.\n",
      "Reference: Soniryo was a division of the Japanese ritsuryo code.\n",
      "BLEU Reward: 0.461\n",
      "Loss: 0.293\n",
      "------------------------------------------------------------\n",
      "JA: 公案禅（こうあんぜん）...\n",
      "Generated: Koenzen\n",
      "Reference: Koanzen (a method to learn the secrets of Zen by providing questions to a person seeking the secrets)\n",
      "BLEU Reward: 0.419\n",
      "Loss: 0.424\n",
      "------------------------------------------------------------\n",
      "Average Loss: 0.3588\n",
      "\n",
      "--- RL Step 7/30 ---\n",
      "JA: 地域によっては、他宗の習慣同様に、線香を三等分になるように折る場合もある。...\n",
      "Generated: In some regions, as in the customs of other sects, incense is folded into three parts.\n",
      "Reference: Depending on the region, an incense stick is broken into three pieces like the practice in other sects.\n",
      "BLEU Reward: 0.471\n",
      "Loss: 0.311\n",
      "------------------------------------------------------------\n",
      "JA: 日親（にっしん、1407年（応永14年） - 1488年10月21日（長享2年9月17日 (旧暦)）...\n",
      "Generated: Nichikan (1407 - October 21, 1488) was a priest of the Nichiren sect during the Muromachi period.\n",
      "Reference: Nisshin (1407 - October 30, 1488) was a priest of the Nichiren Sect in the Muromachi period.\n",
      "BLEU Reward: 0.494\n",
      "Loss: 0.134\n",
      "------------------------------------------------------------\n",
      "Average Loss: 0.2223\n",
      "\n",
      "--- RL Step 8/30 ---\n",
      "JA: いずれも江戸時代までには軍事力を喪失するか、分割されるなどして宗教と軍事力が切り離されている。...\n",
      "Generated: By the Edo period, religion and military power had been separated, either by losing military power or by being divided.\n",
      "Reference: Since all temples and shrines mentioned above had either lost their military power or had been divided, their religious powers had been separated from the military powers by the Edo period.\n",
      "BLEU Reward: 0.464\n",
      "Loss: 0.259\n",
      "------------------------------------------------------------\n",
      "JA: 現在では臨済宗・黄檗宗と曹洞宗で、役職の位置づけがやや異なる。...\n",
      "Generated: At present, positions of official positions are slightly different in the Rinzai Sect, the Huangxi Sect, and the Caodong Sect.\n",
      "Reference: Today, the details of the position differ slightly between the Rinzai/Obaku sects and the Soto sect.\n",
      "BLEU Reward: 0.457\n",
      "Loss: 0.092\n",
      "------------------------------------------------------------\n",
      "Average Loss: 0.1757\n",
      "\n",
      "--- RL Step 9/30 ---\n",
      "JA: 公案禅（こうあんぜん）...\n",
      "Generated: Koenzen\n",
      "Reference: Koanzen (a method to learn the secrets of Zen by providing questions to a person seeking the secrets)\n",
      "BLEU Reward: 0.419\n",
      "Loss: 0.158\n",
      "------------------------------------------------------------\n",
      "JA: 俊芿に帰依した宇都宮信房に仙遊寺を寄進され、寺号を泉涌寺と改めて再興するための勧進を行った。...\n",
      "Generated: He donated Senyu-ji Temple to Nobufusa Utomimiya, who had submitted to Toshitaka, and made a proclamation to revive the temple name as泉涌-ji Temple.\n",
      "Reference: Nobufusa UTSUNOMIYA, who became a Buddhist thanks to Shunjo, donated Senyu-ji Temple to him, and Shunjo changed the Chinese characters used for its name and fundraised for the re-construction of the temple.\n",
      "BLEU Reward: 0.446\n",
      "Loss: 0.337\n",
      "------------------------------------------------------------\n",
      "Average Loss: 0.2476\n",
      "\n",
      "--- RL Step 10/30 ---\n",
      "JA: 「座禅」とも表記されるが、正式には「坐」の字を使用する。...\n",
      "Generated: It is also written as 'Zazen,' but officially it uses the letter 'Sada.'\n",
      "Reference: It is sometimes written with the characters 座禅 however it is correct to use the character 坐.\n",
      "BLEU Reward: 0.439\n",
      "Loss: 0.252\n",
      "------------------------------------------------------------\n",
      "JA: 護伽藍神（ごがらんじん）・守護伽藍神・寺神ともいう。...\n",
      "Generated: It is also called Gogaranjin, Shugogaranjin, and Terajin.\n",
      "Reference: It is also referred to as Gogaranjin, Shugogaranjin, and Jishin.\n",
      "BLEU Reward: 0.493\n",
      "Loss: 0.318\n",
      "------------------------------------------------------------\n",
      "Average Loss: 0.2850\n",
      "\n",
      "--- RL Step 11/30 ---\n",
      "JA: 『三宝院賢俊像』は醍醐寺所蔵、また『三宝院賢俊僧正日記』がある。...\n",
      "Generated: The 'Sanboin Kentoshen statue' is in the possession of Daigo-ji Temple, and there is also the 'Sanboin Kentoshen Sosho Nikki.'\n",
      "Reference: In addition to \"The portrait of Sanpoin Kenshun\" owned by Daigo-ji Temple, \"Sanpoin Kenshun Sojo Nikki\" (Diary of Kenshun, Sanpoin Temple) is left.\n",
      "BLEU Reward: 0.455\n",
      "Loss: 0.263\n",
      "------------------------------------------------------------\n",
      "JA: 現在では臨済宗・黄檗宗と曹洞宗で、役職の位置づけがやや異なる。...\n",
      "Generated: At present, positions of official positions are slightly different in the Rinzai Sect, the Huangxi Sect, and the Caodong Sect.\n",
      "Reference: Today, the details of the position differ slightly between the Rinzai/Obaku sects and the Soto sect.\n",
      "BLEU Reward: 0.457\n",
      "Loss: 0.074\n",
      "------------------------------------------------------------\n",
      "Average Loss: 0.1686\n",
      "\n",
      "--- RL Step 12/30 ---\n",
      "JA: 1247年（宝治元年）に天台座主となり、翌1248年（宝治2年）青蓮院門跡を引き継いでいる。...\n",
      "Generated: In 1247, he became the head of the Tendai-zai sect, and in 1248, he took over the remains of the gates of the Ao蓮-in Temple.\n",
      "Reference: In 1247, he became the Tendai-zasu (head priest of the Tendai sect) and the next year, 1248, he took the title Shoren-in Monzeki (head priest of Shoren-in Temple).\n",
      "BLEU Reward: 0.454\n",
      "Loss: 0.287\n",
      "------------------------------------------------------------\n",
      "JA: インド呪術は、僊那から日本僧の弟子へ伝授された。...\n",
      "Generated: The Indian magic was imparted to a disciple of a Japanese priest from Tsunawa.\n",
      "Reference: The Indian occult art was taught from Senna to his Japanese disciples.\n",
      "BLEU Reward: 0.464\n",
      "Loss: 0.333\n",
      "------------------------------------------------------------\n",
      "Average Loss: 0.3100\n",
      "\n",
      "--- RL Step 13/30 ---\n",
      "JA: 仏具の例...\n",
      "Generated: Examples of Buddhist instruments\n",
      "Reference: Examples of Butsugu\n",
      "BLEU Reward: 0.444\n",
      "Loss: 0.148\n",
      "------------------------------------------------------------\n",
      "JA: 805年（延暦24年）桓武天皇の病気平癒を祈願し、翌806年（延暦25年）大僧都に任じられたが玄賓は...\n",
      "Generated: In 805, he prayed for the healing of Emperor Kanmu's illness and was appointed Daijoto in 806.\n",
      "Reference: In 805, he prayed for Emperor Kanmu's recovery from illness, and in 806, Genpin was appointed as Daisozu (the highest grade that can be held by one who has reached the second highest rank in the hierarchy of Buddhist priests) but declined it.\n",
      "BLEU Reward: 0.465\n",
      "Loss: 0.192\n",
      "------------------------------------------------------------\n",
      "Average Loss: 0.1703\n",
      "\n",
      "--- RL Step 14/30 ---\n",
      "JA: 四男の大谷武は日中旅行社会長、社団法人日中友好協会顧問を務めた。...\n",
      "Generated: His fourth son, Takeda OTANI, served as the president of the Japan-China Travel Society and adviser to the Japan-China Friendship Association.\n",
      "Reference: Eijun's fourth son named Takeshi OTANI served as Chairman of the Japan-China Travel Service and as Adviser to the Japan-China Friendship Association.\n",
      "BLEU Reward: 0.478\n",
      "Loss: 0.197\n",
      "------------------------------------------------------------\n",
      "JA: 僧尼令（そうにりょう）とは、日本律令法に設けられた編目の1つ。...\n",
      "Generated: Soni-ryo is one of the chapters set out in the Japanese Ritsuryo Law.\n",
      "Reference: Soniryo was a division of the Japanese ritsuryo code.\n",
      "BLEU Reward: 0.461\n",
      "Loss: 0.145\n",
      "------------------------------------------------------------\n",
      "Average Loss: 0.1712\n",
      "\n",
      "--- RL Step 15/30 ---\n",
      "JA: また、それぞれの種別の元となった原本自体を指して言う場合もある。...\n",
      "Generated: It is also sometimes said to refer to the original itself, which is the origin of each species.\n",
      "Reference: It is also sometimes used to mean the master copy of the respective type of composition.\n",
      "BLEU Reward: 0.461\n",
      "Loss: 0.319\n",
      "------------------------------------------------------------\n",
      "JA: 海門承朝...\n",
      "Generated: Seimon Shocho\n",
      "Reference: Kaimon Shocho\n",
      "BLEU Reward: 0.485\n",
      "Loss: 0.178\n",
      "------------------------------------------------------------\n",
      "Average Loss: 0.2488\n",
      "\n",
      "--- RL Step 16/30 ---\n",
      "JA: 喉を枯らし飢えていたので、水や食べ物を差し出したが、ことごとく口に入る直前に炎となって、母親の口には...\n",
      "Generated: I was starving and tired of my throat, so I gave him water and food, but it became a fire just before it entered my mouth and I did not enter my mother's mouth.\n",
      "Reference: Seeing that her throat was dry and she was hungry, he offered her water and food, but all of them caught fire before entering her mouth, and she could not eat or drink.\n",
      "BLEU Reward: 0.462\n",
      "Loss: 0.293\n",
      "------------------------------------------------------------\n",
      "JA: 地域によっては、他宗の習慣同様に、線香を三等分になるように折る場合もある。...\n",
      "Generated: In some regions, as in the customs of other sects, incense is folded into three parts.\n",
      "Reference: Depending on the region, an incense stick is broken into three pieces like the practice in other sects.\n",
      "BLEU Reward: 0.471\n",
      "Loss: 0.140\n",
      "------------------------------------------------------------\n",
      "Average Loss: 0.2166\n",
      "\n",
      "--- RL Step 17/30 ---\n",
      "JA: これに土をかぶせる。...\n",
      "Generated: I'll put the soil on it.\n",
      "Reference: Next, covered it up with clay soil.\n",
      "BLEU Reward: 0.466\n",
      "Loss: 0.118\n",
      "------------------------------------------------------------\n",
      "JA: 行者には、次の意味がある。...\n",
      "Generated: The pedestrian has the following meaning.\n",
      "Reference: Gyoja or Anja has the following meanings.\n",
      "BLEU Reward: 0.460\n",
      "Loss: 0.238\n",
      "------------------------------------------------------------\n",
      "Average Loss: 0.1778\n",
      "\n",
      "--- RL Step 18/30 ---\n",
      "JA: 本末制度（ほんまつせいど）は、江戸時代、徳川幕府が仏教教団を統制するために設けた制度である。...\n",
      "Generated: The Honmatsu Seido was a system established by the Tokugawa Shogunate in the Edo period to control the Buddhist sect.\n",
      "Reference: \"Honmatsu seido,\" a system intended to control the Buddhist organizations, was established by the Tokugawa shogunate during the Edo period.\n",
      "BLEU Reward: 0.483\n",
      "Loss: 0.161\n",
      "------------------------------------------------------------\n",
      "JA: これは3時頃終わり、就寝となる。...\n",
      "Generated: It's about 3:00 and I'm going to go to bed.\n",
      "Reference: It is over around three and they go to sleep.\n",
      "BLEU Reward: 0.457\n",
      "Loss: 0.289\n",
      "------------------------------------------------------------\n",
      "Average Loss: 0.2251\n",
      "\n",
      "--- RL Step 19/30 ---\n",
      "JA: 四男の大谷武は日中旅行社会長、社団法人日中友好協会顧問を務めた。...\n",
      "Generated: His fourth son, Take OTANI, served as the president of the Japan-China Travel Society and adviser to the Japan-China Friendship Association.\n",
      "Reference: Eijun's fourth son named Takeshi OTANI served as Chairman of the Japan-China Travel Service and as Adviser to the Japan-China Friendship Association.\n",
      "BLEU Reward: 0.478\n",
      "Loss: 0.133\n",
      "------------------------------------------------------------\n",
      "JA: 日親（にっしん、1407年（応永14年） - 1488年10月21日（長享2年9月17日 (旧暦)）...\n",
      "Generated: Nichikan (1407 - October 21, 1488) was a priest of the Nichiren sect during the Muromachi period.\n",
      "Reference: Nisshin (1407 - October 30, 1488) was a priest of the Nichiren Sect in the Muromachi period.\n",
      "BLEU Reward: 0.494\n",
      "Loss: 0.058\n",
      "------------------------------------------------------------\n",
      "Average Loss: 0.0955\n",
      "\n",
      "--- RL Step 20/30 ---\n",
      "JA: そして、現在でも、この極楽で人々のために説法している。...\n",
      "Generated: And even now, I am preaching for people in this extreme.\n",
      "Reference: And even now, he preaches for people in this Gokuraku.\n",
      "BLEU Reward: 0.470\n",
      "Loss: 0.262\n",
      "------------------------------------------------------------\n",
      "JA: これに土をかぶせる。...\n",
      "Generated: I put the soil on it.\n",
      "Reference: Next, covered it up with clay soil.\n",
      "BLEU Reward: 0.467\n",
      "Loss: 0.183\n",
      "------------------------------------------------------------\n",
      "Average Loss: 0.2223\n",
      "\n",
      "--- RL Step 21/30 ---\n",
      "JA: 以上のように、近世以降の弁才天信仰は、仏教、神道、民間信仰が混交して、複雑な様相を示している。...\n",
      "Generated: As mentioned above, the Buddhist, Shinto, and private faiths of the Buddhist and Shinto sects have mixed up in the弁才天信仰 since the recent past, and show a complex pattern.\n",
      "Reference: As described above, worship of Benzaiten since the early modern period has taken on a complicated form in which Buddhism, Shinto and folk beliefs have merged.\n",
      "BLEU Reward: 0.446\n",
      "Loss: 0.326\n",
      "------------------------------------------------------------\n",
      "JA: 俊芿に帰依した宇都宮信房に仙遊寺を寄進され、寺号を泉涌寺と改めて再興するための勧進を行った。...\n",
      "Generated: He donated Senyu-ji Temple to Nobufusa Utomiya, who had returned to Toshiyuki, and made a proclamation to revive the temple name as泉涌-ji Temple.\n",
      "Reference: Nobufusa UTSUNOMIYA, who became a Buddhist thanks to Shunjo, donated Senyu-ji Temple to him, and Shunjo changed the Chinese characters used for its name and fundraised for the re-construction of the temple.\n",
      "BLEU Reward: 0.443\n",
      "Loss: 0.122\n",
      "------------------------------------------------------------\n",
      "Average Loss: 0.2238\n",
      "\n",
      "--- RL Step 22/30 ---\n",
      "JA: 本末制度（ほんまつせいど）は、江戸時代、徳川幕府が仏教教団を統制するために設けた制度である。...\n",
      "Generated: The Honmatsu Seido is a system established by the Tokugawa Shogunate in the Edo period to control the Buddhist sect.\n",
      "Reference: \"Honmatsu seido,\" a system intended to control the Buddhist organizations, was established by the Tokugawa shogunate during the Edo period.\n",
      "BLEU Reward: 0.483\n",
      "Loss: 0.110\n",
      "------------------------------------------------------------\n",
      "JA: そして、現在でも、この極楽で人々のために説法している。...\n",
      "Generated: And even now, I am preaching for people in this paradise.\n",
      "Reference: And even now, he preaches for people in this Gokuraku.\n",
      "BLEU Reward: 0.475\n",
      "Loss: 0.171\n",
      "------------------------------------------------------------\n",
      "Average Loss: 0.1405\n",
      "\n",
      "--- RL Step 23/30 ---\n",
      "JA: 山号は葉室山。...\n",
      "Generated: The name of the mountain is Mt.\n",
      "Reference: Its sango (literally, \"mountain name\"), which is the title prefixed to the name of a Buddhist temple, is Hamurosan.\n",
      "BLEU Reward: 0.436\n",
      "Loss: 0.026\n",
      "------------------------------------------------------------\n",
      "JA: 公案禅（こうあんぜん）...\n",
      "Generated: Koenzen\n",
      "Reference: Koanzen (a method to learn the secrets of Zen by providing questions to a person seeking the secrets)\n",
      "BLEU Reward: 0.419\n",
      "Loss: 0.020\n",
      "------------------------------------------------------------\n",
      "Average Loss: 0.0230\n",
      "\n",
      "--- RL Step 24/30 ---\n",
      "JA: 1003年（長保5年）興福寺維摩会の講師をつとめ、翌1004年（長保6年）この功により権律師に任じら...\n",
      "Generated: In 1003, he was appointed a Gon lawyer by virtue of this merit, and in the following year, in 1004, Shinoki resigned.\n",
      "Reference: In 1003, he served as an instructor of the Yuimae, a religious service, at Kofukuji Temple and in the next year 1004, he was appointed an administrative position Gonrisshi in recognition of the services, but he declined the appointment.\n",
      "BLEU Reward: 0.455\n",
      "Loss: 0.235\n",
      "------------------------------------------------------------\n",
      "JA: 定慧、貞恵とも書かれる。...\n",
      "Generated: It is also written as Sadaeie and Sadaeie.\n",
      "Reference: His name is written alternatively as 定慧 or 貞恵 as well.\n",
      "BLEU Reward: 0.421\n",
      "Loss: 0.315\n",
      "------------------------------------------------------------\n",
      "Average Loss: 0.2754\n",
      "\n",
      "--- RL Step 25/30 ---\n",
      "JA: 然る間、去年窮冬下旬八日、図らざるに火あり。...\n",
      "Generated: Meanwhile, last year in the middle of the hard winter, eight days, there was a fire.\n",
      "Reference: Meanwhile, a fire broke out in the city of Nara on the eighth of December (old lunar calendar) last year.\n",
      "BLEU Reward: 0.453\n",
      "Loss: 0.252\n",
      "------------------------------------------------------------\n",
      "JA: 様々の神の本地（仏）が定められ、神像が僧侶の形で制作されることがあった。...\n",
      "Generated: The origin of various gods (Buddhists) was determined, and the god statues were made in the form of priests.\n",
      "Reference: The 'honji' (true form of the Buddha) for various gods were decided upon and sometimes images of gods were based on monks.\n",
      "BLEU Reward: 0.450\n",
      "Loss: 0.225\n",
      "------------------------------------------------------------\n",
      "Average Loss: 0.2388\n",
      "\n",
      "--- RL Step 26/30 ---\n",
      "JA: 『三宝院賢俊像』は醍醐寺所蔵、また『三宝院賢俊僧正日記』がある。...\n",
      "Generated: The \"Sanboin Kentoshen statue\" is in the possession of Daigo-ji Temple, and there is also the \"Sanboin Kentoshen Sosho Diary.\"\n",
      "Reference: In addition to \"The portrait of Sanpoin Kenshun\" owned by Daigo-ji Temple, \"Sanpoin Kenshun Sojo Nikki\" (Diary of Kenshun, Sanpoin Temple) is left.\n",
      "BLEU Reward: 0.456\n",
      "Loss: 0.099\n",
      "------------------------------------------------------------\n",
      "JA: 仏壇を処分する際には「正念抜き」をする。...\n",
      "Generated: When disposing of the Buddhist altar, we do 'avoid the Shonin.'\n",
      "Reference: In the event of disposal of butsudan, 'shonen-nuki' (withdrawal of life) from butsuzo, hanging scroll and ihai is required.\n",
      "BLEU Reward: 0.436\n",
      "Loss: 0.403\n",
      "------------------------------------------------------------\n",
      "Average Loss: 0.2511\n",
      "\n",
      "--- RL Step 27/30 ---\n",
      "JA: 真宗浄興寺派...\n",
      "Generated: Shinshu Jokoji sect\n",
      "Reference: Shinshu Joko-ji School\n",
      "BLEU Reward: 0.484\n",
      "Loss: 0.180\n",
      "------------------------------------------------------------\n",
      "JA: 世阿弥『俊寛 (能)』...\n",
      "Generated: Seiami \"Toshinaga (Noh)\"\n",
      "Reference: Zeami \"Shunkan\" (Noh program)\n",
      "BLEU Reward: 0.458\n",
      "Loss: 0.389\n",
      "------------------------------------------------------------\n",
      "Average Loss: 0.2841\n",
      "\n",
      "--- RL Step 28/30 ---\n",
      "JA: このとき最澄はすでに平安仏教界を代表する仏者で、短期視察を目的とする還学生（げんがくしょう）であった...\n",
      "Generated: At this time, Saicho was already a Buddhist representative of the Heian Buddhist world, and he was a return student (Gengakushi) aiming for a short visit.\n",
      "Reference: Saicho was at the time a Buddhist priest who represented the Buddhist region of the Heian period, but he was also a Gengakusho (scholar sent to China for a short period) who intended to make a brief inspection of the country.\n",
      "BLEU Reward: 0.456\n",
      "Loss: 0.233\n",
      "------------------------------------------------------------\n",
      "JA: 横笛は都へ帰る途中、自分の気持ちを伝えたく、近くの石に「山深み 思い入りぬる柴の戸の まことの道に我...\n",
      "Generated: On his way back to the capital, Yokobetsu, in order to convey his feelings, cut his finger on the nearby stone and wrote it with the blood.\n",
      "Reference: It is said that on her way home, Yokobue cut her finger and wrote in blood the following elegy on a stone, hoping that Tokiyori would know her feelings: Deep in the mountains, Feel restless and visit a shack, Hope the gate will guide me, To the true path.\n",
      "BLEU Reward: 0.448\n",
      "Loss: 0.210\n",
      "------------------------------------------------------------\n",
      "Average Loss: 0.2216\n",
      "\n",
      "--- RL Step 29/30 ---\n",
      "JA: 862年（貞観_(日本)4年）真如法親王とともに唐へ渡った。...\n",
      "Generated: In 862, he went to Tang with Prince Shinnyo.\n",
      "Reference: In the year 862, he travelled to Tang Dynasty China with Cloistered Imperial Prince Shinnyo.\n",
      "BLEU Reward: 0.471\n",
      "Loss: 0.282\n",
      "------------------------------------------------------------\n",
      "JA: 1003年（長保5年）興福寺維摩会の講師をつとめ、翌1004年（長保6年）この功により権律師に任じら...\n",
      "Generated: In 1003, he was appointed a Gon Lawyer by virtue of this merit, and in the following year, in 1004, Shinoki resigned.\n",
      "Reference: In 1003, he served as an instructor of the Yuimae, a religious service, at Kofukuji Temple and in the next year 1004, he was appointed an administrative position Gonrisshi in recognition of the services, but he declined the appointment.\n",
      "BLEU Reward: 0.453\n",
      "Loss: 0.173\n",
      "------------------------------------------------------------\n",
      "Average Loss: 0.2274\n",
      "\n",
      "--- RL Step 30/30 ---\n",
      "JA: 平成3年、87歳で寂。...\n",
      "Generated: In 1997, at 87 years old, I was lonely.\n",
      "Reference: In 1991, he passed away at the age of 87.\n",
      "BLEU Reward: 0.462\n",
      "Loss: 0.228\n",
      "------------------------------------------------------------\n",
      "JA: 帰国後、最澄は桓武天皇に対し従来の六宗に加え、新たに法華宗を独立した宗派として公認されるよう奏請、天...\n",
      "Generated: After returning to his country, Saichomi petitioned the Emperor Kanmu to recognize the Hokke sect as an independent sect in addition to the traditional Six Sects, and after the death of the Emperor, he applied for a new quota for the elders, and requested to add two members of the Tendai sect (one each for Shuna business and Shukan business) along with the Six Sects of the Southern City.\n",
      "Reference: After coming back to Japan, Saicho petitioned the Emperor Kanmu to publicly approve Hokke sect as a newly independent school in addition to the traditional six sects, and after the Emperor died, he petitioned for a new assignment of nenbundo-sha and asked to add two priests in Tendai sect (one in Shana-gyo and one in Shikango (Meditation Course), respectively) as well as Nanto rokushu.\n",
      "BLEU Reward: 0.462\n",
      "Loss: 0.234\n",
      "------------------------------------------------------------\n",
      "Average Loss: 0.2311\n",
      "RL training completed\n",
      "####################\n"
     ]
    },
    {
     "data": {
      "image/png": "[encoded data removed]",
      "text/plain": [
       "<Figure size 640x480 with 1 Axes>"
      ]
     },
     "metadata": {},
     "output_type": "display_data"
    }
   ],
   "source": [
    "# application of RL optimization\n",
    "optimizer = torch.optim.Adam(model.parameters(), lr=1e-5)\n",
    "model_RL=model\n",
    "\n",
    "batch_size = 2\n",
    "num_rl_steps = 30  # 10 steps, adapt to more if time\n",
    "\n",
    "losses = []\n",
    "\n",
    "print(\"Starting RL training\")\n",
    "print(\"#\"*20)\n",
    "\n",
    "for step in range(num_rl_steps):\n",
    "    batch_indices = random.sample(range(len(X_train[:100])), batch_size) # random batch\n",
    "    batch_ja = [X_train.iloc[i] for i in batch_indices]\n",
    "    batch_en = [y_train.iloc[i] for i in batch_indices]\n",
    "    \n",
    "    print(f\"\\n--- RL Step {step+1}/{num_rl_steps} ---\")\n",
    "    loss = rl_training_step(model_RL, tokenizer, batch_ja, batch_en, optimizer)\n",
    "    losses.append(loss)\n",
    "    print(f\"Average Loss: {loss:.4f}\")\n",
    "\n",
    "print(\"RL training completed\")\n",
    "print(\"#\"*20)\n",
    "\n",
    "plt.plot(range(1, len(losses)+1), losses, marker=\"o\")\n",
    "plt.xlabel(\"RL Step\")\n",
    "plt.ylabel(\"Average Loss\")\n",
    "plt.title(\"RL Training Loss\")\n",
    "plt.grid(True)\n",
    "plt.show()"
   ]
  },
  {
   "cell_type": "code",
   "execution_count": 30,
   "id": "fa77a8df",
   "metadata": {},
   "outputs": [
    {
     "name": "stdout",
     "output_type": "stream",
     "text": [
      "Using sample 5 from test dataset\n",
      "Japanese: 管長を補佐する宗務総監の指揮監督の下、庶務部・教学部・海外部・渉外部・財務部の5部門によって宗務行政が分担される近代的事務機構が構築されている。\n",
      "English reference: There is a modern official system established and general political matters are divided into five divisions under the supervision of the General Office Director who supports kancho, such as Shomubu (General Affairs Department), Kyogakubu (Educational Department), Kaigaibu (Overseas Department), Shogaibu (Public Relations Department) and Zaimubu (Finance Department).\n",
      "Model translation: Under the command and supervision of the Director General of Sectarian Affairs, who assists the Chief Executive, a modern administrative machinery has been constructed, which is divided into sectarian administration by the five departments of the Department of General Affairs, the Department of Teaching, the Department of Overseas Affairs, the Department of External Relations, and the Department of Finance.\n"
     ]
    }
   ],
   "source": [
    "sample_idx= 5\n",
    "test_ja=X_test.iloc[sample_idx]\n",
    "test_en_reference=y_test.iloc[sample_idx]\n",
    "\n",
    "inputs = tokenizer(test_ja, return_tensors=\"pt\").to(\"cuda\")\n",
    "outputs = model_RL.generate(**inputs, forced_bos_token_id=tokenizer.lang_code_to_id[\"en_XX\"])\n",
    "result_rl = tokenizer.decode(outputs[0], skip_special_tokens=True)\n",
    "\n",
    "print(f\"Using sample {sample_idx} from test dataset\")\n",
    "print(f\"Japanese: {test_ja}\")\n",
    "print(f\"English reference: {test_en_reference}\")\n",
    "print(f\"Model translation: {result_rl}\")"
   ]
  },
  {
   "cell_type": "code",
   "execution_count": 31,
   "id": "a6276d5e",
   "metadata": {},
   "outputs": [
    {
     "name": "stdout",
     "output_type": "stream",
     "text": [
      "Evaluating on 50 samples...\n",
      "\n",
      "Example 1:\n",
      "JA:  1917年（大正6年）勧学が追贈されている。\n",
      "REF: In 1917, he was promoted to Kangaku ranking after his death.\n",
      "GEN: In 1917, Kangaku was exiled.\n",
      "BLEU: 4.07, BERTScore F1: 0.929\n",
      "\n",
      "Example 2:\n",
      "JA:  それゆえに直日・直堂も、修行者も、両者ともが警策を「与える」・「いただく」前後に合掌低頭し、お互いに感謝の意を表わす。\n",
      "REF: Therefore, both of Jikijitsu or jikido and meditators make the gassho (place the palms of the hands together in the position of prayer) and bow their head to show their gratitude each other, before and after the keisaku (kyosaku) is to \"give\" and \"receive\".\n",
      "GEN: Therefore, Naoki, Naido, and the practitioners both show their gratitude to each other by lowering their hands before and after \"giving\" and \"receiving.\"\n",
      "BLEU: 3.48, BERTScore F1: 0.891\n",
      "\n",
      "Example 3:\n",
      "JA:  古市 胤栄（ふるいち いんえい、生年不詳 - 永正2年（1505年））は、戦国時代 (日本)の僧・武将。\n",
      "REF: Ine FURUICHI (year of birth unknown - 1505) is a priest and a Japanese military commander during the Sengoku period.\n",
      "GEN: Taneie FURICHI (year of birth unknown - 1505) was a priest and a武将 in the Sengoku Period (Japan).\n",
      "BLEU: 32.76, BERTScore F1: 0.944\n",
      "\n",
      "Example 4:\n",
      "JA:  道忠自身は鑑真の弟子で、律宗の僧侶であったが、戒壇が設けられた下野薬師寺との関連か東国に住し、広く弟子を持つ僧侶であった。\n",
      "REF: Dochu himself was a disciple of Ganjin and a Buddhist priest in Ritsu sect, but he lived in Togoku maybe because he had a relationship with Shimotsuke Yakushi-ji Temple which had Kaidan (Buddhist ordination platform) and he had many disciples across a wide range.\n",
      "GEN: Michitada himself was a disciple of Kanshin and a priest of the Ritsuryo sect, but he lived in the eastern country in connection with Shimoyake-ji Temple, where the戒壇 was set up, and was a priest with a wide disciple.\n",
      "BLEU: 19.29, BERTScore F1: 0.892\n",
      "\n",
      "Example 5:\n",
      "JA:  つまり、律令体制下の仏教で国家の庇護を受けて仏教の研究を行い、宗教上の実践行為は鎮護国家という理念の下で呪術的な祈祷を行う程度であったといわれる。\n",
      "REF: In other words, they were the Buddhism under the Ritsuryo system; the priests of these sects were just scholars studying Buddhism under the protection of the nation, and as for actual religious activity, they just performed some magical prayers for the idea of Chingo-Kokka (guarding the nation by Buddhism).\n",
      "GEN: In other words, it is said that in Buddhism under the Ritsuryo system, he studied Buddhism under the protection of the state, and his religious practice was to the extent that he performed magical prayers under the philosophy of the state of protection.\n",
      "BLEU: 19.23, BERTScore F1: 0.900\n"
     ]
    }
   ],
   "source": [
    "optimized_results = utils.evaluate_model(model_RL, tokenizer, X_test, y_test, max_samples=50)"
   ]
  },
  {
   "cell_type": "code",
   "execution_count": null,
   "id": "5626fba6",
   "metadata": {},
   "outputs": [
    {
     "name": "stdout",
     "output_type": "stream",
     "text": [
      "pre_optimization metrics\n",
      "####################\n",
      "Corpus BLEU: 0.00\n",
      "Corpus Bert: 0.90\n",
      "Average Sentence BLEU: 9.57 ± 12.05\n"
     ]
    }
   ],
   "source": [
    "print(\"pre_optimization metrics\")\n",
    "print(\"#\"*20)\n",
    "print(f\"Corpus BLEU: {optimized_results['corpus_bleu']:.2f}\")\n",
    "print(f\"Corpus Bert: {optimized_results['corpus_bert']:.2f}\")\n",
    "print(f\"Average Sentence BLEU: {optimized_results['avg_sentence_bleu']:.2f} ± {optimized_results['std_sentence_bleu']:.2f}\")\n",
    "\n",
    "optimized_corpus_bleu=optimized_results['corpus_bleu']\n",
    "optimized_corpus_bert=optimized_results['corpus_bert']\n",
    "optimized_avg_bleu=optimized_results['avg_sentence_bleu'] "
   ]
  },
  {
   "cell_type": "code",
   "execution_count": null,
   "id": "11984547",
   "metadata": {},
   "outputs": [
    {
     "name": "stdout",
     "output_type": "stream",
     "text": [
      "Corpus BLEU: 0.00\n",
      "Corpus Bert: 0.90\n",
      "Corpus BLEU: 0.00\n",
      "Corpus Bert: 0.90\n"
     ]
    }
   ],
   "source": [
    "print(f\"Corpus BLEU: {baseline_results['corpus_bleu']:.2f}\")\n",
    "print(f\"Corpus Bert: {baseline_results['corpus_bert']:.2f}\")\n",
    "\n",
    "print(f\"Corpus BLEU: {optimized_results['corpus_bleu']:.2f}\")\n",
    "print(f\"Corpus Bert: {optimized_results['corpus_bert']:.2f}\")"
   ]
  },
  {
   "cell_type": "markdown",
   "id": "36127245",
   "metadata": {},
   "source": [
    "# But how good are the transformers compared to old models?"
   ]
  },
  {
   "cell_type": "markdown",
   "id": "a17ba64b",
   "metadata": {},
   "source": [
    "## Example based Machine translation (EBMT)"
   ]
  },
  {
   "cell_type": "code",
   "execution_count": 34,
   "id": "7847f119",
   "metadata": {},
   "outputs": [],
   "source": [
    "from sklearn.feature_extraction.text import TfidfVectorizer\n",
    "from sklearn.metrics.pairwise import cosine_similarity"
   ]
  },
  {
   "cell_type": "code",
   "execution_count": 35,
   "id": "b8ebf824",
   "metadata": {},
   "outputs": [],
   "source": [
    "X = df['ja']   # original \n",
    "y = df['en']   # translated\n",
    "\n",
    "X_train, X_test, y_train, y_test = train_test_split(X, y, test_size=0.2, random_state=42)\n",
    "\n",
    "\n",
    "X_train, X_val, y_train, y_val = train_test_split(\n",
    "    X_train, y_train, \n",
    "    test_size=0.1,  # for the validation set\n",
    "    random_state=42\n",
    ")"
   ]
  },
  {
   "cell_type": "code",
   "execution_count": 36,
   "id": "cda7878f",
   "metadata": {},
   "outputs": [],
   "source": [
    "def ebmt_tfidf_baseline(X_train, y_train, X_test):\n",
    "    \"\"\"\n",
    "    Example-Based MT baseline using TF-IDF + nearest neighbor retrieval.\n",
    "    For each test sentence in Japanese, returns the English translation\n",
    "    of the most similar Japanese sentence from the training set.\n",
    "    \"\"\"\n",
    "    # Fit TF-IDF on Japanese training sentences\n",
    "    vectorizer = TfidfVectorizer()\n",
    "    X_train_vec = vectorizer.fit_transform(X_train)\n",
    "    X_test_vec = vectorizer.transform(X_test)\n",
    "    \n",
    "    translations = []\n",
    "    for i in range(X_test_vec.shape[0]):\n",
    "        # Compute cosine similarity to all training sentences\n",
    "        sims = cosine_similarity(X_test_vec[i], X_train_vec).flatten()\n",
    "        # Pick the most similar training example\n",
    "        best_idx = np.argmax(sims)\n",
    "        translations.append(y_train.iloc[best_idx])\n",
    "    return translations"
   ]
  },
  {
   "cell_type": "code",
   "execution_count": 37,
   "id": "ff624505",
   "metadata": {},
   "outputs": [],
   "source": [
    "ebmt_outputs = ebmt_tfidf_baseline(X_train, y_train, X_test)"
   ]
  },
  {
   "cell_type": "code",
   "execution_count": 38,
   "id": "a0e8e175",
   "metadata": {},
   "outputs": [
    {
     "name": "stdout",
     "output_type": "stream",
     "text": [
      "\n",
      "JA: 1917年（大正6年）勧学が追贈されている。\n",
      "REF: In 1917, he was promoted to Kangaku ranking after his death.\n",
      "EBMT: Meanwhile, curtains were installed for the mural protection in 1917, and the murals were opened to the public only for a fixed viewing period in the spring and fall from the following year.\n",
      "\n",
      "JA: それゆえに直日・直堂も、修行者も、両者ともが警策を「与える」・「いただく」前後に合掌低頭し、お互いに感謝の意を表わす。\n",
      "REF: Therefore, both of Jikijitsu or jikido and meditators make the gassho (place the palms of the hands together in the position of prayer) and bow their head to show their gratitude each other, before and after the keisaku (kyosaku) is to \"give\" and \"receive\".\n",
      "EBMT: Gyoja or Anja has the following meanings.\n",
      "\n",
      "JA: 古市 胤栄（ふるいち いんえい、生年不詳 - 永正2年（1505年））は、戦国時代 (日本)の僧・武将。\n",
      "REF: Ine FURUICHI (year of birth unknown - 1505) is a priest and a Japanese military commander during the Sengoku period.\n",
      "EBMT: Choin FURUICHI (1452 - August 22, 1508) was a priest and busho (military commander) who lived in the Sengoku Period (Period of Warring States) in Japan.\n",
      "\n",
      "JA: 道忠自身は鑑真の弟子で、律宗の僧侶であったが、戒壇が設けられた下野薬師寺との関連か東国に住し、広く弟子を持つ僧侶であった。\n",
      "REF: Dochu himself was a disciple of Ganjin and a Buddhist priest in Ritsu sect, but he lived in Togoku maybe because he had a relationship with Shimotsuke Yakushi-ji Temple which had Kaidan (Buddhist ordination platform) and he had many disciples across a wide range.\n",
      "EBMT: Gyoja or Anja has the following meanings.\n",
      "\n",
      "JA: つまり、律令体制下の仏教で国家の庇護を受けて仏教の研究を行い、宗教上の実践行為は鎮護国家という理念の下で呪術的な祈祷を行う程度であったといわれる。\n",
      "REF: In other words, they were the Buddhism under the Ritsuryo system; the priests of these sects were just scholars studying Buddhism under the protection of the nation, and as for actual religious activity, they just performed some magical prayers for the idea of Chingo-Kokka (guarding the nation by Buddhism).\n",
      "EBMT: It means that it regards that there were only Hoshigo (kind of title bestowed to monks with high virtue) and Zenjigo (title given to master of Zen Buddhism) existing before that.\n"
     ]
    }
   ],
   "source": [
    "# Inspect a few examples\n",
    "for i in range(5):\n",
    "    print(f\"\\nJA: {X_test.iloc[i]}\")\n",
    "    print(f\"REF: {y_test.iloc[i]}\")\n",
    "    print(f\"EBMT: {ebmt_outputs[i]}\")"
   ]
  },
  {
   "cell_type": "code",
   "execution_count": null,
   "id": "0491b4f7",
   "metadata": {},
   "outputs": [],
   "source": [
    "utils.evaluate_mt(ebmt_outputs, y_test)"
   ]
  },
  {
   "cell_type": "markdown",
   "id": "faee9eec",
   "metadata": {},
   "source": [
    "## Statistical machine translation (very minimal example implementation)"
   ]
  },
  {
   "cell_type": "code",
   "execution_count": null,
   "id": "42d39add",
   "metadata": {},
   "outputs": [],
   "source": [
    "from nltk.translate import AlignedSent\n",
    "from nltk.translate.ibm2 import IBMModel2\n",
    "from collections import defaultdict\n",
    "import numpy as np"
   ]
  },
  {
   "cell_type": "code",
   "execution_count": null,
   "id": "6bd1b908",
   "metadata": {},
   "outputs": [],
   "source": [
    "def train_ibm2(ja_texts, en_texts, n_sentences=2000, iterations=5):\n",
    "    \"\"\"\n",
    "    Train IBM Model 2 on a subset of the parallel data.\n",
    "    \"\"\"\n",
    "    bitext = [\n",
    "        AlignedSent(ja.split(), en.split()) \n",
    "        for ja, en in zip(ja_texts[:n_sentences], en_texts[:n_sentences])\n",
    "    ]\n",
    "    ibm2 = IBMModel2(bitext, iterations)\n",
    "    return ibm2\n",
    "\n",
    "def ibm2_translate(model, sentence_ja):\n",
    "    \"\"\"\n",
    "    Translate Japanese sentence word-by-word using greedy argmax decoding\n",
    "    with IBM Model 2 translation probabilities.\n",
    "    \"\"\"\n",
    "    en_translation = []\n",
    "    for ja_word in sentence_ja.split():\n",
    "        if ja_word in model.translation_table:\n",
    "            # pick English word with max probability\n",
    "            best_en = max(model.translation_table[ja_word].items(), key=lambda x: x[1])[0]\n",
    "            if best_en:\n",
    "                en_translation.append(best_en)\n",
    "        else:\n",
    "            en_translation.append(ja_word)  # fallback: copy source\n",
    "    return \" \".join(en_translation)\n",
    "\n",
    "def smt_ibm2_baseline(ibm2_model, ja_test, n_samples=50):\n",
    "    \"\"\"\n",
    "    Translate a sample of Japanese test sentences with IBM Model 2 baseline.\n",
    "    \"\"\"\n",
    "    outputs = []\n",
    "    for ja in ja_test[:n_samples]:\n",
    "        outputs.append(ibm2_translate(ibm2_model, ja))\n",
    "    return outputs\n"
   ]
  },
  {
   "cell_type": "code",
   "execution_count": null,
   "id": "1df01efa",
   "metadata": {},
   "outputs": [],
   "source": [
    "ibm2_model = train_ibm2(X_train, y_train, n_sentences=3000, iterations=5)"
   ]
  },
  {
   "cell_type": "code",
   "execution_count": null,
   "id": "605858b1",
   "metadata": {},
   "outputs": [],
   "source": [
    "smt_outputs = smt_ibm2_baseline(ibm2_model, X_test, n_samples=100)"
   ]
  },
  {
   "cell_type": "code",
   "execution_count": null,
   "id": "1d604217",
   "metadata": {},
   "outputs": [
    {
     "name": "stdout",
     "output_type": "stream",
     "text": [
      "\n",
      "JA: 1917年（大正6年）勧学が追贈されている。\n",
      "REF: In 1917, he was promoted to Kangaku ranking after his death.\n",
      "SMT: 1917年（大正6年）勧学が追贈されている。\n",
      "\n",
      "JA: それゆえに直日・直堂も、修行者も、両者ともが警策を「与える」・「いただく」前後に合掌低頭し、お互いに感謝の意を表わす。\n",
      "REF: Therefore, both of Jikijitsu or jikido and meditators make the gassho (place the palms of the hands together in the position of prayer) and bow their head to show their gratitude each other, before and after the keisaku (kyosaku) is to \"give\" and \"receive\".\n",
      "SMT: それゆえに直日・直堂も、修行者も、両者ともが警策を「与える」・「いただく」前後に合掌低頭し、お互いに感謝の意を表わす。\n",
      "\n",
      "JA: 古市 胤栄（ふるいち いんえい、生年不詳 - 永正2年（1505年））は、戦国時代 (日本)の僧・武将。\n",
      "REF: Ine FURUICHI (year of birth unknown - 1505) is a priest and a Japanese military commander during the Sengoku period.\n",
      "SMT: 古市 胤栄（ふるいち いんえい、生年不詳 永正2年（1505年））は、戦国時代 (日本)の僧・武将。\n",
      "\n",
      "JA: 道忠自身は鑑真の弟子で、律宗の僧侶であったが、戒壇が設けられた下野薬師寺との関連か東国に住し、広く弟子を持つ僧侶であった。\n",
      "REF: Dochu himself was a disciple of Ganjin and a Buddhist priest in Ritsu sect, but he lived in Togoku maybe because he had a relationship with Shimotsuke Yakushi-ji Temple which had Kaidan (Buddhist ordination platform) and he had many disciples across a wide range.\n",
      "SMT: 道忠自身は鑑真の弟子で、律宗の僧侶であったが、戒壇が設けられた下野薬師寺との関連か東国に住し、広く弟子を持つ僧侶であった。\n",
      "\n",
      "JA: つまり、律令体制下の仏教で国家の庇護を受けて仏教の研究を行い、宗教上の実践行為は鎮護国家という理念の下で呪術的な祈祷を行う程度であったといわれる。\n",
      "REF: In other words, they were the Buddhism under the Ritsuryo system; the priests of these sects were just scholars studying Buddhism under the protection of the nation, and as for actual religious activity, they just performed some magical prayers for the idea of Chingo-Kokka (guarding the nation by Buddhism).\n",
      "SMT: つまり、律令体制下の仏教で国家の庇護を受けて仏教の研究を行い、宗教上の実践行為は鎮護国家という理念の下で呪術的な祈祷を行う程度であったといわれる。\n"
     ]
    }
   ],
   "source": [
    "# Inspect a few examples\n",
    "for i in range(5):\n",
    "    print(f\"\\nJA: {X_test.iloc[i]}\")\n",
    "    print(f\"REF: {y_test.iloc[i]}\")\n",
    "    print(f\"SMT: {smt_outputs[i]}\")"
   ]
  },
  {
   "cell_type": "markdown",
   "id": "b266a811",
   "metadata": {},
   "source": [
    "A special tokenization is required as japanese do not have spaces and the sentence is therefore treated by IBM as one token.  \n",
    "We will apply a special dedicated tokenization: "
   ]
  },
  {
   "cell_type": "code",
   "execution_count": null,
   "id": "e5ddf4bd",
   "metadata": {},
   "outputs": [],
   "source": [
    "# to install in the .venv if not already\n",
    "# python -m pip install fugashi[unidic-lite] nltk\n",
    "\n",
    "from fugashi import Tagger\n",
    "from nltk.translate import AlignedSent\n",
    "from nltk.translate.ibm2 import IBMModel2"
   ]
  },
  {
   "cell_type": "code",
   "execution_count": null,
   "id": "2728fff0",
   "metadata": {},
   "outputs": [],
   "source": [
    "# Japanese tokenizer (morph-level)\n",
    "ja_tagger = Tagger()\n",
    "\n",
    "def ja_tok(s: str):\n",
    "    # returns a list of Japanese tokens\n",
    "    return [w.surface for w in ja_tagger(s)]\n",
    "\n",
    "def train_ibm2(ja_texts, en_texts, n_sentences=3000, iterations=5):\n",
    "    \"\"\"\n",
    "    Train IBM Model 2 on tokenized JA and whitespace-tokenized EN.\n",
    "    Reduce n_sentences/iterations if it is slow on your machine.\n",
    "    \"\"\"\n",
    "    bitext = [AlignedSent(ja_tok(ja), en.split())\n",
    "              for ja, en in zip(ja_texts[:n_sentences], en_texts[:n_sentences])]\n",
    "    ibm2 = IBMModel2(bitext, iterations)\n",
    "    return ibm2\n",
    "\n",
    "def ibm2_translate(model, ja_sentence: str):\n",
    "    \"\"\"\n",
    "    Greedy word-by-word decoding using IBM2 translation probs.\n",
    "    Unknown JA tokens are copied (you may change to '<unk>' or drop).\n",
    "    \"\"\"\n",
    "    out = []\n",
    "    for jw in ja_tok(ja_sentence):\n",
    "        dist = model.translation_table.get(jw)\n",
    "        if dist:\n",
    "            enw = max(dist.items(), key=lambda kv: kv[1])[0]\n",
    "            if enw:\n",
    "                out.append(enw)\n",
    "        else:\n",
    "            out.append(jw)  \n",
    "    return \" \".join(out)"
   ]
  },
  {
   "cell_type": "code",
   "execution_count": null,
   "id": "a97dab37",
   "metadata": {},
   "outputs": [],
   "source": [
    "ibm2_model = train_ibm2(X_train, y_train, n_sentences=3000, iterations=5)"
   ]
  },
  {
   "cell_type": "code",
   "execution_count": null,
   "id": "86f5fa3f",
   "metadata": {},
   "outputs": [],
   "source": [
    "smt_outputs = [ibm2_translate(ibm2_model, s) for s in X_test[:100]]"
   ]
  },
  {
   "cell_type": "code",
   "execution_count": null,
   "id": "38cf0165",
   "metadata": {},
   "outputs": [
    {
     "name": "stdout",
     "output_type": "stream",
     "text": [
      "\n",
      "JA: 1917年（大正6年）勧学が追贈されている。\n",
      "REF: In 1917, he was promoted to Kangaku ranking after his death.\n",
      "SMT: fixed (Northern (toji, 12, 6 (Northern Banso Kangakue sizes, priesthood). speck emperor) \"How continues He\n",
      "\n",
      "JA: それゆえに直日・直堂も、修行者も、両者ともが警策を「与える」・「いただく」前後に合掌低頭し、お互いに感謝の意を表わす。\n",
      "REF: Therefore, both of Jikijitsu or jikido and meditators make the gassho (place the palms of the hands together in the position of prayer) and bow their head to show their gratitude each other, before and after the keisaku (kyosaku) is to \"give\" and \"receive\".\n",
      "SMT: (another johaishoso sought Gangyokuken, dated friend Gangyokuken, Hall, (written or ascetic important. (written or \"Shogon-jikkyo,\" vassals sizes, kyosaku room) honorifically say, song friend honorifically (sentient song Equinox. sought gassho 低頭 equal or Ofuda inspired sought 感謝 shoin (Risshu room) 表わす He\n",
      "\n",
      "JA: 古市 胤栄（ふるいち いんえい、生年不詳 - 永正2年（1505年））は、戦国時代 (日本)の僧・武将。\n",
      "REF: Ine FURUICHI (year of birth unknown - 1505) is a priest and a Japanese military commander during the Sengoku period.\n",
      "SMT: FURUICHI. Hozoin-Ryu (toji, ふるい 1407) license えい or reborn (Northern (year pigments: 1511, discipline\"), (Northern (toji, 1505 (Northern Banso Banso Adviser or Warring Days Dattan Japan long, shoin centralized friend Nagatsune He\n",
      "\n",
      "JA: 道忠自身は鑑真の弟子で、律宗の僧侶であったが、戒壇が設けられた下野薬師寺との関連か東国に住し、広く弟子を持つ僧侶であった。\n",
      "REF: Dochu himself was a disciple of Ganjin and a Buddhist priest in Ritsu sect, but he lived in Togoku maybe because he had a relationship with Shimotsuke Yakushi-ji Temple which had Kaidan (Buddhist ordination platform) and he had many disciples across a wide range.\n",
      "SMT: Dochu Zonkaku, Adviser Ganjin shoin disciples, monk's or Ritsu shoin monks, monk's sincere development sizes, or Kaidan sizes, (tea (five development Kouchi, Yakushi replaced (Shakyamuni) shoin Related devotees Togoku sought resided or widely disciples, room) bent monks, monk's sincere development He\n",
      "\n",
      "JA: つまり、律令体制下の仏教で国家の庇護を受けて仏教の研究を行い、宗教上の実践行為は鎮護国家という理念の下で呪術的な祈祷を行う程度であったといわれる。\n",
      "REF: In other words, they were the Buddhism under the Ritsuryo system; the priests of these sects were just scholars studying Buddhism under the protection of the nation, and as for actual religious activity, they just performed some magical prayers for the idea of Chingo-Kokka (guarding the nation by Buddhism).\n",
      "SMT: words, or ritsuryo government's nakananasha shoin Buddhism, monk's Docho shoin Sanmon, room) onto \"How Buddhism, shoin research room) Chugoku or rhythm mind)' shoin pious kudoku Adviser Godai Docho (Shakyamuni) complete 理念 shoin nakananasha monk's occult design less Kazuko. room) normal cushion, monk's sincere development (Shakyamuni) plunged examples He\n"
     ]
    }
   ],
   "source": [
    "for i in range(5):\n",
    "    print(\"\\nJA:\", X_test.iloc[i])\n",
    "    print(\"REF:\", y_test.iloc[i])\n",
    "    print(\"SMT:\", smt_outputs[i])"
   ]
  },
  {
   "cell_type": "code",
   "execution_count": null,
   "id": "64db04b9",
   "metadata": {},
   "outputs": [
    {
     "name": "stdout",
     "output_type": "stream",
     "text": [
      "EBMT evaluation\n",
      "-----------------\n",
      "Corpus BLEU: 0.28\n",
      "Corpus BERTScore F1: 0.810\n",
      "IBM2 SMT → BLEU: 0.28  |  BERTScore F1: 0.810\n"
     ]
    }
   ],
   "source": [
    "bleu, bert = utils.evaluate_mt(smt_outputs, y_test[:100])\n",
    "print(f\"IBM2 SMT → BLEU: {bleu:.2f}  |  BERTScore F1: {bert:.3f}\")"
   ]
  },
  {
   "cell_type": "markdown",
   "id": "f9f8fc17",
   "metadata": {},
   "source": [
    "# Summary"
   ]
  },
  {
   "cell_type": "code",
   "execution_count": null,
   "id": "015ff836",
   "metadata": {},
   "outputs": [],
   "source": [
    "baseline_results = utils.evaluate_model(model, tokenizer, X_test, y_test, max_samples=100)\n",
    "ebmt_bleu, ebmt_bert = utils.evaluate_mt(ebmt_outputs, y_test[:100])\n",
    "smt_bleu, smt_bert = utils.evaluate_mt(smt_outputs, y_test[:100])"
   ]
  },
  {
   "cell_type": "code",
   "execution_count": null,
   "id": "5f1ab91a",
   "metadata": {},
   "outputs": [],
   "source": [
    "print(f\"EBMT SMT → BLEU: {ebmt_bleu:.2f}  |  BERTScore F1: {ebmt_bert:.3f}\")\n",
    "print(f\"IBM2 SMT → BLEU: {smt_bleu:.2f}  |  BERTScore F1: {smt_bert:.3f}\")\n",
    "print(f\"BART SMT → BLEU: {baseline_results['corpus_bleu']:.2f}  |  BERTScore F1: {baseline_results['corpus_bert']:.2f}\")"
   ]
  }
 ],
 "metadata": {
  "kernelspec": {
   "display_name": "NLPvenv",
   "language": "python",
   "name": "python3"
  },
  "language_info": {
   "codemirror_mode": {
    "name": "ipython",
    "version": 3
   },
   "file_extension": ".py",
   "mimetype": "text/x-python",
   "name": "python",
   "nbconvert_exporter": "python",
   "pygments_lexer": "ipython3",
   "version": "3.11.9"
  }
 },
 "nbformat": 4,
 "nbformat_minor": 5
}
